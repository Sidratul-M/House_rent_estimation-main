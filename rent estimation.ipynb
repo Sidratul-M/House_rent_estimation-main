{
 "cells": [
  {
   "cell_type": "code",
   "execution_count": 260,
   "id": "e626fa6f",
   "metadata": {},
   "outputs": [
    {
     "name": "stdout",
     "output_type": "stream",
     "text": [
      "Defaulting to user installation because normal site-packages is not writeable\n",
      "Requirement already satisfied: scikit-learn in /Users/laptopheaven/Library/Python/3.9/lib/python/site-packages (1.6.0)\n",
      "Requirement already satisfied: numpy>=1.19.5 in /Users/laptopheaven/Library/Python/3.9/lib/python/site-packages (from scikit-learn) (2.0.2)\n",
      "Requirement already satisfied: scipy>=1.6.0 in /Users/laptopheaven/Library/Python/3.9/lib/python/site-packages (from scikit-learn) (1.13.1)\n",
      "Requirement already satisfied: joblib>=1.2.0 in /Users/laptopheaven/Library/Python/3.9/lib/python/site-packages (from scikit-learn) (1.4.2)\n",
      "Requirement already satisfied: threadpoolctl>=3.1.0 in /Users/laptopheaven/Library/Python/3.9/lib/python/site-packages (from scikit-learn) (3.5.0)\n",
      "Note: you may need to restart the kernel to use updated packages.\n"
     ]
    }
   ],
   "source": [
    "pip install -U scikit-learn"
   ]
  },
  {
   "cell_type": "code",
   "execution_count": 261,
   "id": "923ab4f2",
   "metadata": {},
   "outputs": [
    {
     "name": "stdout",
     "output_type": "stream",
     "text": [
      "Defaulting to user installation because normal site-packages is not writeable\n",
      "Requirement already satisfied: scikit-learn in /Users/laptopheaven/Library/Python/3.9/lib/python/site-packages (1.6.0)\n",
      "Requirement already satisfied: numpy>=1.19.5 in /Users/laptopheaven/Library/Python/3.9/lib/python/site-packages (from scikit-learn) (2.0.2)\n",
      "Requirement already satisfied: scipy>=1.6.0 in /Users/laptopheaven/Library/Python/3.9/lib/python/site-packages (from scikit-learn) (1.13.1)\n",
      "Requirement already satisfied: joblib>=1.2.0 in /Users/laptopheaven/Library/Python/3.9/lib/python/site-packages (from scikit-learn) (1.4.2)\n",
      "Requirement already satisfied: threadpoolctl>=3.1.0 in /Users/laptopheaven/Library/Python/3.9/lib/python/site-packages (from scikit-learn) (3.5.0)\n",
      "Note: you may need to restart the kernel to use updated packages.\n"
     ]
    }
   ],
   "source": [
    "pip install scikit-learn\n"
   ]
  },
  {
   "cell_type": "code",
   "execution_count": 262,
   "id": "5d4774df",
   "metadata": {},
   "outputs": [],
   "source": [
    "#packege imports\n",
    "from sklearn import preprocessing, linear_model\n",
    "import numpy as np\n",
    "\n",
    "import sklearn\n"
   ]
  },
  {
   "cell_type": "code",
   "execution_count": 274,
   "id": "2d39e3e2",
   "metadata": {},
   "outputs": [
    {
     "name": "stdout",
     "output_type": "stream",
     "text": [
      "Index(['Unnamed: 0', 'id', 'Location', 'lat-lon', 'Area', 'Bed', 'Bath',\n",
      "       'Price'],\n",
      "      dtype='object')\n"
     ]
    },
    {
     "data": {
      "text/html": [
       "<div>\n",
       "<style scoped>\n",
       "    .dataframe tbody tr th:only-of-type {\n",
       "        vertical-align: middle;\n",
       "    }\n",
       "\n",
       "    .dataframe tbody tr th {\n",
       "        vertical-align: top;\n",
       "    }\n",
       "\n",
       "    .dataframe thead th {\n",
       "        text-align: right;\n",
       "    }\n",
       "</style>\n",
       "<table border=\"1\" class=\"dataframe\">\n",
       "  <thead>\n",
       "    <tr style=\"text-align: right;\">\n",
       "      <th></th>\n",
       "      <th>Unnamed: 0</th>\n",
       "      <th>id</th>\n",
       "      <th>Location</th>\n",
       "      <th>lat-lon</th>\n",
       "      <th>Area</th>\n",
       "      <th>Bed</th>\n",
       "      <th>Bath</th>\n",
       "      <th>Price</th>\n",
       "    </tr>\n",
       "  </thead>\n",
       "  <tbody>\n",
       "    <tr>\n",
       "      <th>0</th>\n",
       "      <td>0</td>\n",
       "      <td>0</td>\n",
       "      <td>Block H, Bashundhara R-A, Dhaka</td>\n",
       "      <td>0.263433</td>\n",
       "      <td>1,600 sqft</td>\n",
       "      <td>3</td>\n",
       "      <td>3</td>\n",
       "      <td>23 Thousand</td>\n",
       "    </tr>\n",
       "    <tr>\n",
       "      <th>1</th>\n",
       "      <td>1</td>\n",
       "      <td>1</td>\n",
       "      <td>Farmgate, Tejgaon, Dhaka</td>\n",
       "      <td>0.262859</td>\n",
       "      <td>900 sqft</td>\n",
       "      <td>2</td>\n",
       "      <td>2</td>\n",
       "      <td>23 Thousand</td>\n",
       "    </tr>\n",
       "    <tr>\n",
       "      <th>2</th>\n",
       "      <td>3</td>\n",
       "      <td>3</td>\n",
       "      <td>Gulshan 1, Gulshan, Dhaka</td>\n",
       "      <td>0.263010</td>\n",
       "      <td>2,200 sqft</td>\n",
       "      <td>3</td>\n",
       "      <td>4</td>\n",
       "      <td>78 Thousand</td>\n",
       "    </tr>\n",
       "    <tr>\n",
       "      <th>3</th>\n",
       "      <td>4</td>\n",
       "      <td>4</td>\n",
       "      <td>Baridhara, Dhaka</td>\n",
       "      <td>0.263252</td>\n",
       "      <td>2,200 sqft</td>\n",
       "      <td>3</td>\n",
       "      <td>3</td>\n",
       "      <td>77 Thousand</td>\n",
       "    </tr>\n",
       "    <tr>\n",
       "      <th>4</th>\n",
       "      <td>5</td>\n",
       "      <td>5</td>\n",
       "      <td>Bashundhara R-A, Dhaka</td>\n",
       "      <td>0.263335</td>\n",
       "      <td>3,000 sqft</td>\n",
       "      <td>4</td>\n",
       "      <td>5</td>\n",
       "      <td>52 Thousand</td>\n",
       "    </tr>\n",
       "  </tbody>\n",
       "</table>\n",
       "</div>"
      ],
      "text/plain": [
       "   Unnamed: 0  id                         Location   lat-lon        Area  Bed  \\\n",
       "0           0   0  Block H, Bashundhara R-A, Dhaka  0.263433  1,600 sqft    3   \n",
       "1           1   1         Farmgate, Tejgaon, Dhaka  0.262859    900 sqft    2   \n",
       "2           3   3        Gulshan 1, Gulshan, Dhaka  0.263010  2,200 sqft    3   \n",
       "3           4   4                 Baridhara, Dhaka  0.263252  2,200 sqft    3   \n",
       "4           5   5           Bashundhara R-A, Dhaka  0.263335  3,000 sqft    4   \n",
       "\n",
       "   Bath        Price  \n",
       "0     3  23 Thousand  \n",
       "1     2  23 Thousand  \n",
       "2     4  78 Thousand  \n",
       "3     3  77 Thousand  \n",
       "4     5  52 Thousand  "
      ]
     },
     "execution_count": 274,
     "metadata": {},
     "output_type": "execute_result"
    }
   ],
   "source": [
    "#Data reading\n",
    "import pandas as pd\n",
    "\n",
    "df = pd.read_csv(\"new_house_data.csv\")\n",
    "print(df.columns)\n",
    "df.drop([\"id\"],axis=1)\n",
    "df.head()"
   ]
  },
  {
   "cell_type": "code",
   "execution_count": 275,
   "id": "b321ba4c",
   "metadata": {},
   "outputs": [
    {
     "name": "stdout",
     "output_type": "stream",
     "text": [
      "Rows with invalid Price values:\n",
      "Empty DataFrame\n",
      "Columns: [Unnamed: 0, id, Location, lat-lon, Area, Bed, Bath, Price]\n",
      "Index: []\n",
      "Index(['Unnamed: 0', 'id', 'Location', 'lat-lon', 'Area', 'Bed', 'Bath',\n",
      "       'Price'],\n",
      "      dtype='object')\n"
     ]
    }
   ],
   "source": [
    "# #Data processing\n",
    "# # Process the \"Area\" column\n",
    "# df[\"Area\"] = df[\"Area\"].astype(str).map(lambda i: i.replace(\" sqft\", \"\").replace(\",\", \"\"))\n",
    "# df[\"Area\"] = df[\"Area\"].map(lambda i: int(i))  # Convert to integer after cleaning\n",
    "\n",
    "# # Process the \"Price\" column\n",
    "# df[\"Price\"] = df[\"Price\"].astype(str).map(lambda i: i.replace(\" Thousand\", \"000\"))\n",
    "# df[\"Price\"] = df[\"Price\"].map(lambda i: i.replace(\" Lakh\", \"00000\").replace(\".\", \"\"))\n",
    "# df[\"Price\"] = df[\"Price\"].map(lambda i: i.replace(\" Lakh\", \"00000\").replace(\".\", \"\"))\n",
    "# df[\"Price\"] = df[\"Price\"].map(lambda i: int(i))  # Convert to integer after cleaning\n",
    "\n",
    "# df.head()\n",
    "# print(df.columns)\n",
    "# Data processing\n",
    "# Process the \"Area\" column\n",
    "df[\"Area\"] = df[\"Area\"].astype(str).map(lambda i: i.replace(\" sqft\", \"\").replace(\",\", \"\"))\n",
    "df[\"Area\"] = df[\"Area\"].map(lambda i: int(i))  # Convert to integer after cleaning\n",
    "\n",
    "def process_price(price):\n",
    "    try:\n",
    "        \n",
    "        price = str(price)\n",
    "        \n",
    "        if \"Thousand\" in price and \".\" in price:\n",
    "            # Replace decimal point and \" Thousand\"\n",
    "            return float(price.replace(\" Thousand\", \"00\").replace(\".\", \"\")) \n",
    "        elif \"Thousand\" in price:\n",
    "            # Replace \" Thousand\" without decimals\n",
    "            return int(price.replace(\" Thousand\", \"000\"))\n",
    "        if \"Lakh\" in price and \".\" in price:\n",
    "            # Replace decimal point and \" Thousand\"\n",
    "            return float(price.replace(\" Lakh\", \"000\").replace(\".\", \"\")) \n",
    "        elif \"Lakh\" in price:\n",
    "            # Replace \" Lakh\" and remove any decimal points\n",
    "            return int(price.replace(\" Lakh\", \"00000\"))\n",
    "        else:\n",
    "            # Try converting to an integer directly\n",
    "            #print(\"11111\")\n",
    "            return int(price)\n",
    "    except (ValueError, AttributeError, TypeError) as e:\n",
    "       # print(f\"Error processing price: {price}. Error: {e}\")\n",
    "        return None  # Return None for problematic entries\n",
    "\n",
    "\n",
    "# Apply the function to the Price column\n",
    "df[\"Price\"] = df[\"Price\"].map(process_price)\n",
    "\n",
    "# Check rows where processing failed\n",
    "print(\"Rows with invalid Price values:\")\n",
    "print(df[df[\"Price\"].isnull()])\n",
    "\n",
    "# Optionally drop rows with invalid/missing Price\n",
    "df = df.dropna(subset=[\"Price\"])  # Drop rows where Price is None\n",
    "\n",
    "\n",
    "\n",
    "# Display the processed DataFrame\n",
    "df.head()\n",
    "print(df.columns)\n",
    "\n"
   ]
  },
  {
   "cell_type": "code",
   "execution_count": 276,
   "id": "47bc5172",
   "metadata": {},
   "outputs": [
    {
     "name": "stdout",
     "output_type": "stream",
     "text": [
      "       Unnamed: 0          id     lat-lon         Area         Bed  \\\n",
      "count  434.000000  434.000000  434.000000   434.000000  434.000000   \n",
      "mean   250.919355  250.919355    0.263363  1685.064516    2.937788   \n",
      "std    146.640738  146.640738    0.000447   799.152447    0.632675   \n",
      "min      0.000000    0.000000    0.262325   400.000000    1.000000   \n",
      "25%    120.500000  120.500000    0.263076  1200.000000    3.000000   \n",
      "50%    256.500000  256.500000    0.263352  1500.000000    3.000000   \n",
      "75%    376.750000  376.750000    0.263465  2100.000000    3.000000   \n",
      "max    498.000000  498.000000    0.264216  5500.000000    6.000000   \n",
      "\n",
      "             Bath          Price  \n",
      "count  434.000000     434.000000  \n",
      "mean     3.062212   54395.161290  \n",
      "std      0.872098   59909.804798  \n",
      "min      1.000000    6000.000000  \n",
      "25%      3.000000   22000.000000  \n",
      "50%      3.000000   32000.000000  \n",
      "75%      4.000000   63000.000000  \n",
      "max      6.000000  410000.000000  \n"
     ]
    }
   ],
   "source": [
    "#df = df[df['Price'] >= 0]  # Remove rows with negative prices\n",
    "print(df.describe())\n"
   ]
  },
  {
   "cell_type": "code",
   "execution_count": 277,
   "id": "f266b5fc",
   "metadata": {},
   "outputs": [
    {
     "name": "stdout",
     "output_type": "stream",
     "text": [
      "Index(['Unnamed: 0', 'id', 'Location', 'lat-lon', 'Area', 'Bed', 'Bath',\n",
      "       'Price'],\n",
      "      dtype='object')\n"
     ]
    },
    {
     "data": {
      "text/plain": [
       "Unnamed: 0    0\n",
       "id            0\n",
       "Location      0\n",
       "lat-lon       0\n",
       "Area          0\n",
       "Bed           0\n",
       "Bath          0\n",
       "Price         0\n",
       "dtype: int64"
      ]
     },
     "execution_count": 277,
     "metadata": {},
     "output_type": "execute_result"
    }
   ],
   "source": [
    "#Checking null value\n",
    "print(df.columns)\n",
    "\n",
    "df.isnull().sum()"
   ]
  },
  {
   "cell_type": "code",
   "execution_count": 278,
   "id": "5da1a193",
   "metadata": {},
   "outputs": [
    {
     "name": "stdout",
     "output_type": "stream",
     "text": [
      "x (434, 6)\n",
      "y (434,)\n",
      "(303, 6)\n",
      "(131, 6)\n"
     ]
    }
   ],
   "source": [
    "#Spliting Data\n",
    "df = df.drop([\"Location\"],axis=1)\n",
    "\n",
    "x = np.array(df.drop([\"Price\"],axis=1))\n",
    "#print(df.describe())\n",
    "\n",
    "y = np.array(df[\"Price\"])\n",
    "print(\"x\",x.shape)\n",
    "print(\"y\",y.shape)\n",
    "\n",
    "xTrain,xTest, yTrain, yTest = sklearn.model_selection.train_test_split(x,y,\n",
    "                                                                      test_size = 0.3,\n",
    "                                                                      random_state = 10)\n",
    "print(xTrain.shape)\n",
    "print(xTest.shape)\n"
   ]
  },
  {
   "cell_type": "code",
   "execution_count": 279,
   "id": "d659a457",
   "metadata": {},
   "outputs": [
    {
     "name": "stdout",
     "output_type": "stream",
     "text": [
      "Coefficiants [-7.77951745e+00 -7.77952063e+00 -5.52482665e+06  7.69607448e+01\n",
      " -2.29458383e+03 -1.82633151e+04]\n",
      "Y intercept 1446770.133\n",
      "Accuracy 71.129 %\n"
     ]
    }
   ],
   "source": [
    "#model Training\n",
    "# model = LinearRegression(positive=True)\n",
    "model = linear_model.LinearRegression()\n",
    "model.fit(xTrain,yTrain)\n",
    "accuracy = model.score(xTest,yTest)\n",
    "\n",
    "print(\"Coefficiants\",model.coef_)\n",
    "print(\"Y intercept\",round(model.intercept_,3))\n",
    "\n",
    "print(\"Accuracy\",round(accuracy*100,3),\"%\")"
   ]
  },
  {
   "cell_type": "code",
   "execution_count": 280,
   "id": "aa1916aa",
   "metadata": {},
   "outputs": [
    {
     "name": "stdout",
     "output_type": "stream",
     "text": [
      "Actual value 64000.0; prediction 28431; Error: 35568\n",
      "Actual value 68000.0; prediction 76393; Error: -8393\n",
      "Actual value 11000.0; prediction 115317; Error: -104317\n",
      "Actual value 245000.0; prediction 141741; Error: 103259\n",
      "Actual value 32000.0; prediction -3141; Error: 35141\n",
      "Actual value 12000.0; prediction 3168; Error: 8832\n",
      "Actual value 115000.0; prediction 159186; Error: -44186\n",
      "Actual value 22000.0; prediction 41479; Error: -19479\n",
      "Actual value 42000.0; prediction 44952; Error: -2953\n",
      "Actual value 100000.0; prediction 70146; Error: 29853\n",
      "Actual value 40000.0; prediction 68926; Error: -28926\n",
      "Actual value 27000.0; prediction 27793; Error: -794\n",
      "Actual value 27000.0; prediction 33754; Error: -6755\n",
      "Actual value 19000.0; prediction 35651; Error: -16651\n",
      "Actual value 75000.0; prediction 124205; Error: -49205\n",
      "Actual value 32000.0; prediction 32833; Error: -833\n",
      "Actual value 35000.0; prediction 41725; Error: -6725\n",
      "Actual value 26000.0; prediction 40041; Error: -14042\n",
      "Actual value 16000.0; prediction 25238; Error: -9238\n",
      "Actual value 88000.0; prediction 118152; Error: -30152\n",
      "Actual value 23000.0; prediction 24698; Error: -1698\n",
      "Actual value 21000.0; prediction 1820; Error: 19180\n",
      "Actual value 110000.0; prediction 118273; Error: -8273\n",
      "Actual value 24500.0; prediction 48818; Error: -24318\n",
      "Actual value 21000.0; prediction 39392; Error: -18392\n",
      "Actual value 10000.0; prediction 23219; Error: -13219\n",
      "Actual value 14000.0; prediction 3700; Error: 10300\n",
      "Actual value 75000.0; prediction 66621; Error: 8378\n",
      "Actual value 74000.0; prediction 95989; Error: -21989\n",
      "Actual value 53000.0; prediction 96206; Error: -43206\n",
      "Actual value 43000.0; prediction 15674; Error: 27326\n",
      "Actual value 115000.0; prediction 154627; Error: -39627\n",
      "Actual value 23000.0; prediction 22654; Error: 345\n",
      "Actual value 22000.0; prediction 22376; Error: -377\n",
      "Actual value 47000.0; prediction 55280; Error: -8281\n",
      "Actual value 22000.0; prediction 20879; Error: 1120\n",
      "Actual value 18000.0; prediction 13603; Error: 4396\n",
      "Actual value 23000.0; prediction 23061; Error: -62\n",
      "Actual value 38000.0; prediction 56265; Error: -18265\n",
      "Actual value 35000.0; prediction 15211; Error: 19788\n",
      "Actual value 26000.0; prediction 23386; Error: 2614\n",
      "Actual value 32000.0; prediction 42582; Error: -10582\n",
      "Actual value 123000.0; prediction 156001; Error: -33002\n",
      "Actual value 16500.0; prediction 27228; Error: -10729\n",
      "Actual value 28000.0; prediction 44045; Error: -16046\n",
      "Actual value 27000.0; prediction 38634; Error: -11634\n",
      "Actual value 6000.0; prediction 507; Error: 5492\n",
      "Actual value 63000.0; prediction 69591; Error: -6591\n",
      "Actual value 21000.0; prediction 17811; Error: 3188\n",
      "Actual value 21000.0; prediction 21342; Error: -343\n",
      "Actual value 9500.0; prediction 9804; Error: -304\n",
      "Actual value 22000.0; prediction 26112; Error: -4113\n",
      "Actual value 63000.0; prediction 29116; Error: 33884\n",
      "Actual value 30000.0; prediction 33799; Error: -3799\n",
      "Actual value 125000.0; prediction 115734; Error: 9265\n",
      "Actual value 22000.0; prediction 25874; Error: -3874\n",
      "Actual value 225000.0; prediction 139043; Error: 85957\n",
      "Actual value 42000.0; prediction 29738; Error: 12261\n",
      "Actual value 27000.0; prediction 47396; Error: -20397\n",
      "Actual value 22000.0; prediction 25403; Error: -3403\n",
      "Actual value 47000.0; prediction 65393; Error: -18393\n",
      "Actual value 43000.0; prediction 75793; Error: -32794\n",
      "Actual value 21000.0; prediction 16650; Error: 4349\n",
      "Actual value 47000.0; prediction 76771; Error: -29772\n",
      "Actual value 12000.0; prediction 10607; Error: 1393\n",
      "Actual value 16000.0; prediction 25435; Error: -9436\n",
      "Actual value 57000.0; prediction 42201; Error: 14798\n",
      "Actual value 38000.0; prediction 22863; Error: 15136\n",
      "Actual value 360000.0; prediction 311820; Error: 48179\n",
      "Actual value 210000.0; prediction 158592; Error: 51408\n",
      "Actual value 28000.0; prediction 34827; Error: -6828\n",
      "Actual value 18000.0; prediction 24696; Error: -6696\n",
      "Actual value 28000.0; prediction 24640; Error: 3360\n",
      "Actual value 94000.0; prediction 93562; Error: 438\n",
      "Actual value 26000.0; prediction 6306; Error: 19693\n",
      "Actual value 85000.0; prediction 98069; Error: -13070\n",
      "Actual value 54000.0; prediction 91015; Error: -37015\n",
      "Actual value 32000.0; prediction 63286; Error: -31287\n",
      "Actual value 32000.0; prediction 31227; Error: 772\n",
      "Actual value 63000.0; prediction 139199; Error: -76199\n",
      "Actual value 15000.0; prediction 13581; Error: 1419\n",
      "Actual value 18000.0; prediction 7141; Error: 10858\n",
      "Actual value 150000.0; prediction 136206; Error: 13794\n",
      "Actual value 32000.0; prediction 53332; Error: -21333\n",
      "Actual value 125000.0; prediction 86165; Error: 38835\n",
      "Actual value 27000.0; prediction 26911; Error: 88\n",
      "Actual value 28000.0; prediction 35814; Error: -7815\n",
      "Actual value 14000.0; prediction 3395; Error: 10604\n",
      "Actual value 23000.0; prediction 16759; Error: 6240\n",
      "Actual value 32000.0; prediction 78866; Error: -46866\n",
      "Actual value 64000.0; prediction 24011; Error: 39988\n",
      "Actual value 17000.0; prediction 114; Error: 16885\n",
      "Actual value 42000.0; prediction 72001; Error: -30001\n",
      "Actual value 21000.0; prediction 18205; Error: 2794\n",
      "Actual value 19000.0; prediction 18321; Error: 678\n",
      "Actual value 32000.0; prediction 62125; Error: -30125\n",
      "Actual value 18000.0; prediction 12114; Error: 5886\n",
      "Actual value 22000.0; prediction 17008; Error: 4991\n",
      "Actual value 13500.0; prediction 1291; Error: 12208\n",
      "Actual value 28000.0; prediction 51491; Error: -23491\n",
      "Actual value 20000.0; prediction 22252; Error: -2252\n",
      "Actual value 82000.0; prediction 119119; Error: -37119\n",
      "Actual value 38500.0; prediction 33824; Error: 4675\n",
      "Actual value 125000.0; prediction 113092; Error: 11907\n",
      "Actual value 125000.0; prediction 35900; Error: 89099\n",
      "Actual value 40000.0; prediction 94048; Error: -54049\n",
      "Actual value 26000.0; prediction 28607; Error: -2608\n",
      "Actual value 38000.0; prediction 55165; Error: -17166\n",
      "Actual value 32000.0; prediction 33242; Error: -1242\n",
      "Actual value 36000.0; prediction 18084; Error: 17915\n",
      "Actual value 26000.0; prediction 18998; Error: 7001\n",
      "Actual value 32000.0; prediction 32128; Error: -128\n",
      "Actual value 410000.0; prediction 225865; Error: 184135\n",
      "Actual value 36000.0; prediction 52431; Error: -16432\n",
      "Actual value 58000.0; prediction 99426; Error: -41427\n",
      "Actual value 43000.0; prediction 29723; Error: 13277\n",
      "Actual value 53000.0; prediction 85916; Error: -32916\n",
      "Actual value 32000.0; prediction 36288; Error: -4288\n",
      "Actual value 15000.0; prediction 9408; Error: 5592\n",
      "Actual value 38000.0; prediction 30054; Error: 7945\n",
      "Actual value 95000.0; prediction 84128; Error: 10872\n",
      "Actual value 7000.0; prediction -3043; Error: 10043\n",
      "Actual value 26000.0; prediction 7112; Error: 18888\n",
      "Actual value 30000.0; prediction 57190; Error: -27191\n",
      "Actual value 13500.0; prediction 12111; Error: 1389\n",
      "Actual value 32000.0; prediction 63839; Error: -31840\n",
      "Actual value 22000.0; prediction 18896; Error: 3104\n",
      "Actual value 22000.0; prediction 18221; Error: 3779\n",
      "Actual value 63000.0; prediction 66725; Error: -3725\n",
      "Actual value 22000.0; prediction 21719; Error: 280\n",
      "Actual value 88000.0; prediction 97716; Error: -9716\n"
     ]
    }
   ],
   "source": [
    "#Evaluation\n",
    "testvals = model.predict(xTest)\n",
    "# print(testvals)\n",
    "\n",
    "error = []\n",
    "\n",
    "for i,testval in enumerate(testvals):\n",
    "    error.append(yTest[i]-testval)\n",
    "    \n",
    "    print(f\"Actual value {yTest[i]}; prediction {int(testval)}; Error: {round(error[i])}\")\n",
    "    "
   ]
  },
  {
   "cell_type": "code",
   "execution_count": null,
   "id": "1e2de6da",
   "metadata": {},
   "outputs": [],
   "source": []
  },
  {
   "cell_type": "code",
   "execution_count": null,
   "id": "95d27ba9",
   "metadata": {},
   "outputs": [],
   "source": []
  }
 ],
 "metadata": {
  "kernelspec": {
   "display_name": "Python 3",
   "language": "python",
   "name": "python3"
  },
  "language_info": {
   "codemirror_mode": {
    "name": "ipython",
    "version": 3
   },
   "file_extension": ".py",
   "mimetype": "text/x-python",
   "name": "python",
   "nbconvert_exporter": "python",
   "pygments_lexer": "ipython3",
   "version": "3.9.6"
  }
 },
 "nbformat": 4,
 "nbformat_minor": 5
}
